{
 "cells": [
  {
   "cell_type": "markdown",
   "metadata": {},
   "source": [
    "# Deep Learning Final Term - Adversarial Robustness Toolbox Experiment\n",
    "## Indra Imanuel - 20195118"
   ]
  },
  {
   "cell_type": "code",
   "execution_count": 1,
   "metadata": {},
   "outputs": [],
   "source": [
    "#Importing the necessary libraries\n",
    "\n",
    "import warnings\n",
    "warnings.filterwarnings('ignore')\n",
    "import tensorflow as tf\n",
    "tf.compat.v1.disable_eager_execution()\n",
    "import numpy as np\n",
    "from matplotlib import pyplot as plt\n",
    "\n",
    "from art.estimators.classification import KerasClassifier\n",
    "from art.attacks.evasion import FastGradientMethod, ProjectedGradientDescent\n",
    "from art.defences.preprocessor import SpatialSmoothing, FeatureSqueezing\n",
    "from art.utils import to_categorical"
   ]
  },
  {
   "cell_type": "code",
   "execution_count": 2,
   "metadata": {},
   "outputs": [],
   "source": [
    "#Load MNIST Dataset\n",
    "(x_train, y_train), (x_test, y_test) = tf.keras.datasets.mnist.load_data()\n",
    "x_train, x_test = x_train / 255.0, x_test / 255.0\n",
    "\n",
    "x_test = x_test[0:100]\n",
    "y_test = y_test[0:100]"
   ]
  },
  {
   "cell_type": "code",
   "execution_count": 3,
   "metadata": {},
   "outputs": [
    {
     "name": "stdout",
     "output_type": "stream",
     "text": [
      "WARNING:tensorflow:From C:\\Users\\USER\\Anaconda3\\envs\\deeplearningenv\\lib\\site-packages\\tensorflow_core\\python\\ops\\resource_variable_ops.py:1635: calling BaseResourceVariable.__init__ (from tensorflow.python.ops.resource_variable_ops) with constraint is deprecated and will be removed in a future version.\n",
      "Instructions for updating:\n",
      "If using Keras pass *_constraint arguments to layers.\n"
     ]
    }
   ],
   "source": [
    "#Creating & compiling the model\n",
    "model = tf.keras.models.Sequential([\n",
    "    tf.keras.layers.InputLayer(input_shape=(28, 28)),\n",
    "    tf.keras.layers.Flatten(),\n",
    "    tf.keras.layers.Dense(128, activation='relu'),\n",
    "    tf.keras.layers.Dropout(0.2),\n",
    "    tf.keras.layers.Dense(10, activation='softmax')\n",
    "])\n",
    "\n",
    "model.compile(optimizer='adam',\n",
    "              loss='sparse_categorical_crossentropy',\n",
    "              metrics=['accuracy']);"
   ]
  },
  {
   "cell_type": "code",
   "execution_count": 4,
   "metadata": {},
   "outputs": [
    {
     "name": "stdout",
     "output_type": "stream",
     "text": [
      "Train on 60000 samples\n",
      "Epoch 1/5\n",
      "60000/60000 [==============================] - 1s 22us/sample - loss: 0.2944 - accuracy: 0.9142\n",
      "Epoch 2/5\n",
      "60000/60000 [==============================] - 1s 22us/sample - loss: 0.1410 - accuracy: 0.9581\n",
      "Epoch 3/5\n",
      "60000/60000 [==============================] - 1s 22us/sample - loss: 0.1069 - accuracy: 0.9677\n",
      "Epoch 4/5\n",
      "60000/60000 [==============================] - 1s 22us/sample - loss: 0.0892 - accuracy: 0.9721\n",
      "Epoch 5/5\n",
      "60000/60000 [==============================] - 1s 22us/sample - loss: 0.0724 - accuracy: 0.9777\n"
     ]
    },
    {
     "data": {
      "text/plain": [
       "<tensorflow.python.keras.callbacks.History at 0x1ef50a65c48>"
      ]
     },
     "execution_count": 4,
     "metadata": {},
     "output_type": "execute_result"
    }
   ],
   "source": [
    "#Train the model\n",
    "model.fit(x_train, y_train, epochs=5)"
   ]
  },
  {
   "cell_type": "code",
   "execution_count": 5,
   "metadata": {},
   "outputs": [
    {
     "name": "stdout",
     "output_type": "stream",
     "text": [
      "100/100 [==============================] - 0s 249us/sample - loss: 0.0120 - accuracy: 1.0000\n",
      "Accuracy on test data: 100.00%\n"
     ]
    }
   ],
   "source": [
    "#Evaluate the model on the test data\n",
    "loss_test, accuracy_test = model.evaluate(x_test, y_test)\n",
    "print('Accuracy on test data: {:4.2f}%'.format(accuracy_test * 100))"
   ]
  },
  {
   "cell_type": "code",
   "execution_count": 6,
   "metadata": {},
   "outputs": [],
   "source": [
    "#Creating ART Keras classifier\n",
    "classifier = KerasClassifier(model=model, clip_values=(0, 1))"
   ]
  },
  {
   "cell_type": "code",
   "execution_count": 7,
   "metadata": {},
   "outputs": [
    {
     "name": "stdout",
     "output_type": "stream",
     "text": [
      "The image was:  7 , the prediction is:  7 , the confidence 1.00\n"
     ]
    }
   ],
   "source": [
    "#See the prediction result (without any attack) using the classifier\n",
    "predict_vanilla = classifier.predict(x_test)\n",
    "label_vanilla = np.argmax(predict_vanilla, axis=1)[0]\n",
    "confidence_vanilla = predict_vanilla[:, label_vanilla][0]\n",
    "\n",
    "print(\"The image was: \", y_test[0], \", the prediction is: \", label_vanilla, \", the confidence {0:.2f}\".format(confidence_vanilla))"
   ]
  },
  {
   "cell_type": "code",
   "execution_count": 8,
   "metadata": {},
   "outputs": [
    {
     "data": {
      "image/png": "[encoded data removed]",
      "text/plain": [
       "<Figure size 720x144 with 10 Axes>"
      ]
     },
     "metadata": {
      "needs_background": "light"
     },
     "output_type": "display_data"
    }
   ],
   "source": [
    "#MNIST Images before the adversarial attack\n",
    "n = 10  # how many digits we will display\n",
    "plt.figure(figsize=(10,2))\n",
    "for i in range(n):\n",
    "    idx = np.where(y_test == i)[0][0]\n",
    "    ax = plt.subplot(2, n, i + 1)\n",
    "    plt.imshow(x_test[idx].reshape(28, 28))\n",
    "    plt.gray()\n",
    "    ax.get_xaxis().set_visible(False)\n",
    "    ax.get_yaxis().set_visible(False)\n",
    "plt.show()"
   ]
  },
  {
   "cell_type": "markdown",
   "metadata": {},
   "source": [
    "### Testing the attack mechanism of ART"
   ]
  },
  {
   "cell_type": "code",
   "execution_count": 9,
   "metadata": {},
   "outputs": [],
   "source": [
    "#Doing the Fast Gradient Sign Method Attack <FGSM> (Untargeted Attack)\n",
    "attack_fgsm = FastGradientMethod(estimator=classifier, eps=0.3)"
   ]
  },
  {
   "cell_type": "code",
   "execution_count": 10,
   "metadata": {},
   "outputs": [],
   "source": [
    "#Generate adversarial test data\n",
    "x_test_adv1 = attack_fgsm.generate(x_test)"
   ]
  },
  {
   "cell_type": "code",
   "execution_count": 11,
   "metadata": {},
   "outputs": [
    {
     "name": "stdout",
     "output_type": "stream",
     "text": [
      "100/100 [==============================] - 0s 30us/sample - loss: 16.7439 - accuracy: 0.0000e+00\n",
      "Accuracy on adversarial test data: 0.00%\n",
      "Average perturbation: 0.18\n"
     ]
    }
   ],
   "source": [
    "#Evaluate accuray on the adversarial image\n",
    "loss_test, accuracy_test = model.evaluate(x_test_adv1, y_test)\n",
    "perturbation = np.mean(np.abs((x_test_adv1 - x_test)))\n",
    "print('Accuracy on adversarial test data: {:4.2f}%'.format(accuracy_test * 100))\n",
    "print('Average perturbation: {:4.2f}'.format(perturbation))"
   ]
  },
  {
   "cell_type": "code",
   "execution_count": 12,
   "metadata": {},
   "outputs": [
    {
     "name": "stdout",
     "output_type": "stream",
     "text": [
      "The image was:  7 , the prediction is:  3 , the confidence 0.70\n"
     ]
    }
   ],
   "source": [
    "#See the prediction result of the classifier on the attacked image (FGSM)\n",
    "predict_adv1 = classifier.predict(x_test_adv1)\n",
    "label_adv1 = np.argmax(predict_adv1, axis=1)[0]\n",
    "confidence_adv1 = predict_adv1[:, label_adv1][0]\n",
    "\n",
    "print(\"The image was: \", y_test[0], \", the prediction is: \", label_adv1, \", the confidence {0:.2f}\".format(confidence_adv1))"
   ]
  },
  {
   "cell_type": "code",
   "execution_count": 13,
   "metadata": {},
   "outputs": [
    {
     "data": {
      "image/png": "[encoded data removed]",
      "text/plain": [
       "<Figure size 720x144 with 10 Axes>"
      ]
     },
     "metadata": {
      "needs_background": "light"
     },
     "output_type": "display_data"
    }
   ],
   "source": [
    "#MNIST Images after the adversarial attack (FGSM)\n",
    "n = 10  # how many digits we will display\n",
    "plt.figure(figsize=(10,2))\n",
    "for i in range(n):\n",
    "    idx = np.where(y_test == i)[0][0]\n",
    "    ax = plt.subplot(2, n, i + 1)\n",
    "    plt.imshow(x_test_adv1[idx].reshape(28, 28))\n",
    "    plt.gray()\n",
    "    ax.get_xaxis().set_visible(False)\n",
    "    ax.get_yaxis().set_visible(False)\n",
    "plt.show()"
   ]
  },
  {
   "cell_type": "code",
   "execution_count": 14,
   "metadata": {},
   "outputs": [],
   "source": [
    "#Doing the Projected Gradient Descent Attack <PGD> (Untargeted)\n",
    "attack_PGD = ProjectedGradientDescent(classifier, targeted=False, max_iter=10, eps_step=1, eps=5)"
   ]
  },
  {
   "cell_type": "code",
   "execution_count": 15,
   "metadata": {},
   "outputs": [],
   "source": [
    "#Generate the adversarial sample\n",
    "x_test_adv2 = attack_PGD.generate(x_test)"
   ]
  },
  {
   "cell_type": "code",
   "execution_count": 16,
   "metadata": {},
   "outputs": [
    {
     "name": "stdout",
     "output_type": "stream",
     "text": [
      "100/100 [==============================] - 0s 30us/sample - loss: 182.7729 - accuracy: 0.0000e+00\n",
      "Accuracy on adversarial test data: 0.00%\n",
      "Average perturbation: 0.53\n"
     ]
    }
   ],
   "source": [
    "#Evaluate accuray on the adversarial image\n",
    "loss_test, accuracy_test = model.evaluate(x_test_adv2, y_test)\n",
    "perturbation = np.mean(np.abs((x_test_adv2 - x_test)))\n",
    "print('Accuracy on adversarial test data: {:4.2f}%'.format(accuracy_test * 100))\n",
    "print('Average perturbation: {:4.2f}'.format(perturbation))"
   ]
  },
  {
   "cell_type": "code",
   "execution_count": 17,
   "metadata": {},
   "outputs": [
    {
     "name": "stdout",
     "output_type": "stream",
     "text": [
      "The image was:  7 , the prediction is:  5 , the confidence 1.00\n"
     ]
    }
   ],
   "source": [
    "#See the prediction result of the classifier on the attacked image (PGD)\n",
    "predict_adv2 = classifier.predict(x_test_adv2)\n",
    "label_adv2 = np.argmax(predict_adv2, axis=1)[0]\n",
    "confidence_adv2 = predict_adv2[:, label_adv2][0]\n",
    "\n",
    "print(\"The image was: \", y_test[0], \", the prediction is: \", label_adv2, \", the confidence {0:.2f}\".format(confidence_adv2))"
   ]
  },
  {
   "cell_type": "code",
   "execution_count": 18,
   "metadata": {},
   "outputs": [
    {
     "data": {
      "image/png": "[encoded data removed]",
      "text/plain": [
       "<Figure size 720x144 with 10 Axes>"
      ]
     },
     "metadata": {
      "needs_background": "light"
     },
     "output_type": "display_data"
    }
   ],
   "source": [
    "#MNIST Images after the adversarial attack (PGD)\n",
    "n = 10  # how many digits we will display\n",
    "plt.figure(figsize=(10,2))\n",
    "for i in range(n):\n",
    "    idx = np.where(y_test == i)[0][0]\n",
    "    ax = plt.subplot(2, n, i + 1)\n",
    "    plt.imshow(x_test_adv2[idx].reshape(28, 28))\n",
    "    plt.gray()\n",
    "    ax.get_xaxis().set_visible(False)\n",
    "    ax.get_yaxis().set_visible(False)\n",
    "plt.show()"
   ]
  },
  {
   "cell_type": "markdown",
   "metadata": {},
   "source": [
    "### Testing the defense mechanism of ART"
   ]
  },
  {
   "cell_type": "code",
   "execution_count": 19,
   "metadata": {},
   "outputs": [],
   "source": [
    "#Defense against FGSM by Spatial Smoothing\n",
    "defense_ss = SpatialSmoothing(window_size=3)\n",
    "x_test_adv_def1, _ = defense_ss(np.expand_dims(x_test_adv1, axis=0))"
   ]
  },
  {
   "cell_type": "code",
   "execution_count": 20,
   "metadata": {},
   "outputs": [
    {
     "name": "stdout",
     "output_type": "stream",
     "text": [
      "100/100 [==============================] - 0s 35us/sample - loss: 10.0942 - accuracy: 0.0300\n",
      "Accuracy on adversarial test data: 3.00%\n",
      "Average perturbation: 0.23\n"
     ]
    }
   ],
   "source": [
    "#Evaluate accuray on the defended adversarial image\n",
    "loss_test, accuracy_test = model.evaluate(np.squeeze(x_test_adv_def1, axis=0), y_test)\n",
    "perturbation = np.mean(np.abs((x_test_adv_def1 - x_test)))\n",
    "print('Accuracy on adversarial test data: {:4.2f}%'.format(accuracy_test * 100))\n",
    "print('Average perturbation: {:4.2f}'.format(perturbation))"
   ]
  },
  {
   "cell_type": "code",
   "execution_count": 21,
   "metadata": {},
   "outputs": [
    {
     "name": "stdout",
     "output_type": "stream",
     "text": [
      "Prediction of original sample: 7\n",
      "Prediction of adversarial sample: 3 - confidence 0.64\n"
     ]
    }
   ],
   "source": [
    "#See the prediction result of the classifier on the attacked image (FGSM) with Spatial Smoothing Defense\n",
    "pred_adv_def1 = classifier.predict(np.squeeze(x_test_adv_def1,axis=0))\n",
    "label_adv_def1 = np.argmax(pred_adv_def1, axis=1)[0]\n",
    "confidence_adv_def1 = pred_adv_def1[:, label_adv_def1][0]\n",
    "\n",
    "print('Prediction of original sample:', y_test[0])\n",
    "print('Prediction of adversarial sample:', label_adv_def1, \n",
    "      '- confidence {0:.2f}'.format(confidence_adv_def1))"
   ]
  },
  {
   "cell_type": "code",
   "execution_count": 22,
   "metadata": {},
   "outputs": [
    {
     "data": {
      "text/plain": [
       "<matplotlib.image.AxesImage at 0x1ef534b0a88>"
      ]
     },
     "execution_count": 22,
     "metadata": {},
     "output_type": "execute_result"
    },
    {
     "data": {
      "image/png": "[encoded data removed]",
      "text/plain": [
       "<Figure size 432x288 with 1 Axes>"
      ]
     },
     "metadata": {
      "needs_background": "light"
     },
     "output_type": "display_data"
    }
   ],
   "source": [
    "#Plot the adversarial image (FGSM) with spatial smoothing defense\n",
    "plt.imshow(x_test_adv_def1[0][0].reshape(28, 28))"
   ]
  },
  {
   "cell_type": "code",
   "execution_count": 23,
   "metadata": {},
   "outputs": [],
   "source": [
    "#Defense againts PGD by feature squeezing\n",
    "defense_fs = FeatureSqueezing(clip_values=(3,5))\n",
    "x_test_adv_def2, _ = defense_fs(x_test_adv2)"
   ]
  },
  {
   "cell_type": "code",
   "execution_count": 24,
   "metadata": {},
   "outputs": [
    {
     "name": "stdout",
     "output_type": "stream",
     "text": [
      "100/100 [==============================] - 0s 40us/sample - loss: 181.9824 - accuracy: 0.0000e+00\n",
      "Accuracy on adversarial test data: 0.00%\n",
      "Average perturbation: 0.53\n"
     ]
    }
   ],
   "source": [
    "#Evaluate accuray on the defended adversarial image\n",
    "loss_test, accuracy_test = model.evaluate(x_test_adv_def2, y_test)\n",
    "perturbation = np.mean(np.abs((x_test_adv_def2 - x_test)))\n",
    "print('Accuracy on adversarial test data: {:4.2f}%'.format(accuracy_test * 100))\n",
    "print('Average perturbation: {:4.2f}'.format(perturbation))"
   ]
  },
  {
   "cell_type": "code",
   "execution_count": 25,
   "metadata": {},
   "outputs": [
    {
     "name": "stdout",
     "output_type": "stream",
     "text": [
      "Prediction of original sample: 7\n",
      "Prediction of adversarial sample: 5 - confidence 1.00\n"
     ]
    }
   ],
   "source": [
    "pred_adv_def2 = classifier.predict(x_test_adv_def2)\n",
    "label_adv_def2 = np.argmax(pred_adv_def2, axis=1)[0]\n",
    "confidence_adv_def2 = pred_adv_def2[:, label_adv_def2][0]\n",
    "\n",
    "print('Prediction of original sample:', y_test[0])\n",
    "print('Prediction of adversarial sample:', label_adv_def2, \n",
    "      '- confidence {0:.2f}'.format(confidence_adv_def2))"
   ]
  },
  {
   "cell_type": "code",
   "execution_count": 26,
   "metadata": {},
   "outputs": [
    {
     "data": {
      "text/plain": [
       "<matplotlib.image.AxesImage at 0x1ef5352ffc8>"
      ]
     },
     "execution_count": 26,
     "metadata": {},
     "output_type": "execute_result"
    },
    {
     "data": {
      "image/png": "[encoded data removed]",
      "text/plain": [
       "<Figure size 432x288 with 1 Axes>"
      ]
     },
     "metadata": {
      "needs_background": "light"
     },
     "output_type": "display_data"
    }
   ],
   "source": [
    "#Plot the adversarial image (PGD) with Feature Squeezing defense\n",
    "plt.imshow(x_test_adv_def2[0].reshape(28, 28))"
   ]
  },
  {
   "cell_type": "markdown",
   "metadata": {},
   "source": [
    "### Calculating L0, L2, L-inf"
   ]
  },
  {
   "cell_type": "code",
   "execution_count": 27,
   "metadata": {},
   "outputs": [
    {
     "data": {
      "text/plain": [
       "<matplotlib.image.AxesImage at 0x1ef5360a388>"
      ]
     },
     "execution_count": 27,
     "metadata": {},
     "output_type": "execute_result"
    },
    {
     "data": {
      "image/png": "[encoded data removed]",
      "text/plain": [
       "<Figure size 432x288 with 3 Axes>"
      ]
     },
     "metadata": {
      "needs_background": "light"
     },
     "output_type": "display_data"
    }
   ],
   "source": [
    "#Select the image that wants to be compared\n",
    "original_image = x_test[0]\n",
    "fgsm_image = x_test_adv1[0]\n",
    "pgd_image = x_test_adv2[0]\n",
    "\n",
    "#plot them\n",
    "f, axarr = plt.subplots(1,3)\n",
    "axarr[0].imshow(original_image)\n",
    "axarr[1].imshow(fgsm_image)\n",
    "axarr[2].imshow(pgd_image)"
   ]
  },
  {
   "cell_type": "code",
   "execution_count": 28,
   "metadata": {},
   "outputs": [
    {
     "name": "stdout",
     "output_type": "stream",
     "text": [
      "L0 Original & FGSM    : 64.03%\n",
      "L2 Original & FGSM    :  6.531633532084609\n",
      "L inf Original & FGSM :  7.200000286102295\n",
      "\n",
      "L0 Original & PGD    : 61.22%\n",
      "L2 Original & PGD    :  20.35036554786092\n",
      "L inf Original & PGD :  24.807843137254903\n"
     ]
    }
   ],
   "source": [
    "#Original Image & FGSM\n",
    "ori_fgsm = original_image-fgsm_image\n",
    "\n",
    "L0_dist1 = (sum(sum(ori_fgsm != 0))) / np.size(ori_fgsm)\n",
    "L2_dist1 = np.linalg.norm(ori_fgsm)\n",
    "L_inf_dist1 = np.linalg.norm(ori_fgsm, np.inf)\n",
    "\n",
    "print(\"L0 Original & FGSM    : {:4.2f}%\".format(L0_dist1 * 100))\n",
    "print(\"L2 Original & FGSM    : \", L2_dist1)\n",
    "print(\"L inf Original & FGSM : \", L_inf_dist1)\n",
    "print(\"\")\n",
    "#Original Image & PGD\n",
    "ori_pgd = original_image-pgd_image\n",
    "\n",
    "L0_dist2 = (sum(sum(ori_pgd != 0))) / np.size(ori_pgd)\n",
    "L2_dist2 = np.linalg.norm(ori_pgd)\n",
    "L_inf_dist2 = np.linalg.norm(ori_pgd, np.inf)\n",
    "\n",
    "print(\"L0 Original & PGD    : {:4.2f}%\".format(L0_dist2 * 100))\n",
    "print(\"L2 Original & PGD    : \", L2_dist2)\n",
    "print(\"L inf Original & PGD : \", L_inf_dist2)"
   ]
  },
  {
   "cell_type": "markdown",
   "metadata": {},
   "source": [
    "### Targeted Attack"
   ]
  },
  {
   "cell_type": "code",
   "execution_count": 29,
   "metadata": {},
   "outputs": [],
   "source": [
    "#Targeted attack\n",
    "attack_PGD_targeted = ProjectedGradientDescent(classifier, targeted=True, max_iter=40, eps_step=1, eps=5)"
   ]
  },
  {
   "cell_type": "code",
   "execution_count": 30,
   "metadata": {},
   "outputs": [
    {
     "name": "stdout",
     "output_type": "stream",
     "text": [
      "[[0. 0. 0. 0. 0. 1. 0. 0. 0. 0.]]\n"
     ]
    }
   ],
   "source": [
    "#Define the target class\n",
    "y_target = [5]\n",
    "y_target_onehot = to_categorical(y_target, 10)\n",
    "print(y_target_onehot)"
   ]
  },
  {
   "cell_type": "code",
   "execution_count": 31,
   "metadata": {},
   "outputs": [
    {
     "name": "stdout",
     "output_type": "stream",
     "text": [
      "(1, 28, 28)\n"
     ]
    }
   ],
   "source": [
    "#Preprocess the data\n",
    "x_test_targeted = np.expand_dims(x_test[0], axis=0)\n",
    "print(x_test_targeted.shape)"
   ]
  },
  {
   "cell_type": "code",
   "execution_count": 32,
   "metadata": {},
   "outputs": [],
   "source": [
    "#Generate the adversarial sample:\n",
    "x_test_adv_targeted = attack_PGD_targeted.generate(x_test_targeted, y=y_target_onehot)"
   ]
  },
  {
   "cell_type": "code",
   "execution_count": 33,
   "metadata": {},
   "outputs": [
    {
     "name": "stdout",
     "output_type": "stream",
     "text": [
      "The image was:  7 , the prediction is:  5 , the confidence 1.00\n"
     ]
    }
   ],
   "source": [
    "#See the prediction result of the classifier on the attacked image (PGD targeted)\n",
    "predict_adv_targeted = classifier.predict(x_test_adv_targeted)\n",
    "label_adv_targeted = np.argmax(predict_adv_targeted, axis=1)[0]\n",
    "confidence_adv_targeted = predict_adv_targeted[:, label_adv_targeted][0]\n",
    "\n",
    "print(\"The image was: \", y_test[0], \", the prediction is: \", label_adv_targeted, \", the confidence {0:.2f}\".format(confidence_adv_targeted))"
   ]
  },
  {
   "cell_type": "code",
   "execution_count": 34,
   "metadata": {},
   "outputs": [
    {
     "data": {
      "text/plain": [
       "<matplotlib.image.AxesImage at 0x1ef5371db88>"
      ]
     },
     "execution_count": 34,
     "metadata": {},
     "output_type": "execute_result"
    },
    {
     "data": {
      "image/png": "[encoded data removed]",
      "text/plain": [
       "<Figure size 432x288 with 3 Axes>"
      ]
     },
     "metadata": {
      "needs_background": "light"
     },
     "output_type": "display_data"
    }
   ],
   "source": [
    "#Plot the images (original, untargeted attack, targeted attack)\n",
    "f, axarr = plt.subplots(1,3)\n",
    "axarr[0].imshow(original_image)\n",
    "axarr[1].imshow(pgd_image)\n",
    "axarr[2].imshow(x_test_adv_targeted.reshape(28, 28))"
   ]
  },
  {
   "cell_type": "code",
   "execution_count": 35,
   "metadata": {},
   "outputs": [
    {
     "name": "stdout",
     "output_type": "stream",
     "text": [
      "L2 Original & PGD Untargeted   :  20.35036554786092\n",
      "L2 Original & PGD Targeted   :  20.671665875986566\n"
     ]
    }
   ],
   "source": [
    "#Calculate L2 distance\n",
    "#Untargeted\n",
    "L2_dist_untargeted = np.linalg.norm(ori_pgd)\n",
    "print(\"L2 Original & PGD Untargeted   : \", L2_dist_untargeted)\n",
    "\n",
    "#Targeted\n",
    "ori_pgd_targeted = original_image - x_test_adv_targeted[0]\n",
    "L2_dist_targeted = np.linalg.norm(ori_pgd_targeted)\n",
    "print(\"L2 Original & PGD Targeted   : \", L2_dist_targeted)"
   ]
  }
 ],
 "metadata": {
  "kernelspec": {
   "display_name": "Python 3",
   "language": "python",
   "name": "python3"
  },
  "language_info": {
   "codemirror_mode": {
    "name": "ipython",
    "version": 3
   },
   "file_extension": ".py",
   "mimetype": "text/x-python",
   "name": "python",
   "nbconvert_exporter": "python",
   "pygments_lexer": "ipython3",
   "version": "3.7.7"
  }
 },
 "nbformat": 4,
 "nbformat_minor": 4
}
